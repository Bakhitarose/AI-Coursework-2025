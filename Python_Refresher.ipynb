{
 "cells": [
  {
   "cell_type": "markdown",
   "id": "4f01eb82-7e1d-4ff3-96c6-6de58cf6d547",
   "metadata": {},
   "source": [
    "# Question 1"
   ]
  },
  {
   "cell_type": "raw",
   "id": "2ba11d7e-004a-47ca-b3c9-2fbee8f7b92f",
   "metadata": {},
   "source": [
    "Write a program that asks the user for a number of days. The program then prints out the number of seconds in the amount of days given. "
   ]
  },
  {
   "cell_type": "code",
   "execution_count": 1,
   "id": "30aca110-29ed-474a-8b5b-9f4790287313",
   "metadata": {},
   "outputs": [
    {
     "name": "stdin",
     "output_type": "stream",
     "text": [
      "Input number of days:  3\n"
     ]
    },
    {
     "name": "stdout",
     "output_type": "stream",
     "text": [
      "The number of seconds in 3 days is 259200 seconds.\n"
     ]
    }
   ],
   "source": [
    "#Prompt user to inut number of days and output seconds\n",
    "days = int(input(\"Input number of days: \"))\n",
    "#Calculation of seconds\n",
    "seconds = days * 86400\n",
    "#seconds in the amount of days given\n",
    "print(f\"The number of seconds in {days} days is {seconds} seconds.\" )"
   ]
  },
  {
   "cell_type": "markdown",
   "id": "044d60bd-7a01-4b87-ab40-83c6a358092b",
   "metadata": {},
   "source": [
    "# Qusetion 2"
   ]
  },
  {
   "cell_type": "raw",
   "id": "4eca7d84-9c23-4159-b880-0048090042fb",
   "metadata": {},
   "source": [
    "Write a program that asks a user to input the radius then the program calculates the volume of a sphere (the formula for the volume is (4/3)πr3). Use the exponential operator in python to compute (r3)"
   ]
  },
  {
   "cell_type": "code",
   "execution_count": 4,
   "id": "4647e924-d0e0-4429-907f-c2c844946591",
   "metadata": {},
   "outputs": [
    {
     "name": "stdin",
     "output_type": "stream",
     "text": [
      "Enter the radius of the sphere:  5.0\n"
     ]
    },
    {
     "name": "stdout",
     "output_type": "stream",
     "text": [
      "The volume of the sphere with a radius of 5.0 is 523.3333333333334\n"
     ]
    }
   ],
   "source": [
    "# Prompt user to input radius and calculate the volume \n",
    "radius = float(input(\"Enter the radius of the sphere: \"))\n",
    "# Calculating the volume of a sphere\n",
    "volume = (4/3) * 3.14 * radius**3\n",
    "# Volume output\n",
    "print(f\"The volume of the sphere with a radius of {radius} is {volume}\")"
   ]
  },
  {
   "cell_type": "markdown",
   "id": "621cb8f3-1e63-4a07-b210-8e889d525a31",
   "metadata": {},
   "source": [
    "# Question 3"
   ]
  },
  {
   "cell_type": "raw",
   "id": "9d711182-e3ce-4032-b213-6c48075b14c5",
   "metadata": {},
   "source": [
    "Using functions, write a program to compute the area and perimeter of a square. The program should ask the user to enter a number corresponding to the side length of the square and display the area and perimeter of the square. "
   ]
  },
  {
   "cell_type": "code",
   "execution_count": 5,
   "id": "bea20e03-d59c-4078-a7d6-383f900eb205",
   "metadata": {},
   "outputs": [
    {
     "name": "stdin",
     "output_type": "stream",
     "text": [
      "Input the length of the square:  6.7\n"
     ]
    },
    {
     "name": "stdout",
     "output_type": "stream",
     "text": [
      "The area of a square of length 6.7 is 44.89\n",
      "The perimeter of a square with a length 6.7 is 26.8\n"
     ]
    }
   ],
   "source": [
    "#Prompt user to input side length of a square and calculate area and perimeter using functions.\n",
    "\n",
    "# Area function\n",
    "def area_of_square(side_length):\n",
    "    return side_length ** 2\n",
    "# Perimeter function\n",
    "def perimeter_of_square(side_length):\n",
    "    return side_length * 4\n",
    "# Side_length prompt\n",
    "side_length = float(input(\"Input the length of the square: \"))\n",
    "# Calculation of area and perimeter\n",
    "area = area_of_square(side_length)\n",
    "perimeter = perimeter_of_square(side_length)\n",
    "# Output\n",
    "print(f\"The area of a square of length {side_length} is {area}\")\n",
    "print(f\"The perimeter of a square with a length {side_length} is {perimeter}\")"
   ]
  },
  {
   "cell_type": "markdown",
   "id": "64006398-7f58-4d44-a818-d89e66d190fe",
   "metadata": {},
   "source": [
    "# Question 4"
   ]
  },
  {
   "cell_type": "raw",
   "id": "556d85ec-db20-4faa-96bc-835f358e5f06",
   "metadata": {},
   "source": [
    "Write a program using functions that determines whether a character input by a user is uppercase or lower case. "
   ]
  },
  {
   "cell_type": "code",
   "execution_count": 7,
   "id": "a2f4ec8f-6ffa-49bf-8598-2581571f585f",
   "metadata": {},
   "outputs": [
    {
     "name": "stdin",
     "output_type": "stream",
     "text": [
      "Please input a character:  n\n"
     ]
    },
    {
     "name": "stdout",
     "output_type": "stream",
     "text": [
      "The character is lowercase\n"
     ]
    }
   ],
   "source": [
    "# Functions determining the case of a user's character\n",
    "def uppercase(char):\n",
    "    return char.isupper()\n",
    "def lowercase(char):\n",
    "    return char.islower()\n",
    "\n",
    "# Prompt the user input\n",
    "character = input(\"Please input a character: \")\n",
    "# Confirm the case of the input\n",
    "if uppercase(character):\n",
    "    print(f\"The character is uppercase\")\n",
    "elif lowercase(character):\n",
    "    print(f\"The character is lowercase\")\n",
    "else:\n",
    "    print(f\"The character is neither uppercase nor lowercase\")"
   ]
  },
  {
   "cell_type": "markdown",
   "id": "0da072c5-a8ba-4286-bfd2-0cef367d9939",
   "metadata": {},
   "source": [
    "# Question 5"
   ]
  },
  {
   "cell_type": "code",
   "execution_count": 9,
   "id": "136705a3-ac8e-43d2-8c8a-264d5e22eb9e",
   "metadata": {},
   "outputs": [
    {
     "name": "stdout",
     "output_type": "stream",
     "text": [
      "1.0416666666666665\n"
     ]
    }
   ],
   "source": [
    "# Convert psuedocode to Python code\n",
    "\n",
    "# Declare x and y\n",
    "x = 0\n",
    "y = 20\n",
    "\n",
    "# Loop until the y is less than 6 and output x\n",
    "while y >= 6:\n",
    "    y = y - 4\n",
    "    x = x + (2/y)\n",
    "\n",
    "print(x)\n"
   ]
  },
  {
   "cell_type": "markdown",
   "id": "6a9582c5-9a9d-482c-a584-043912dd98ca",
   "metadata": {},
   "source": [
    "# Question 6"
   ]
  },
  {
   "cell_type": "raw",
   "id": "3e528767-ae3d-4b6c-b198-c7245de365e4",
   "metadata": {},
   "source": [
    "Write a Python program that does the following:\n",
    "• Uses a loop for a user to continually input 5 values to populate an array. \n",
    "• Calculates and displays the average of the values input into the array. "
   ]
  },
  {
   "cell_type": "code",
   "execution_count": 15,
   "id": "8eb7e869-b603-4386-b956-11742706b407",
   "metadata": {},
   "outputs": [
    {
     "name": "stdin",
     "output_type": "stream",
     "text": [
      "Input the numbers 1:  8\n",
      "Input the numbers 2:  3\n",
      "Input the numbers 3:  1\n",
      "Input the numbers 4:  9\n",
      "Input the numbers 5:  5\n"
     ]
    },
    {
     "name": "stdout",
     "output_type": "stream",
     "text": [
      "The average of the inputed numbers is: 5.2\n"
     ]
    }
   ],
   "source": [
    "# Input array values and display the average\n",
    "numbers = [] #Array for storing values\n",
    "# Loop for collecting valus in the array\n",
    "for i in range(5):\n",
    "    num = float(input(f\"Input the numbers {i + 1}: \"))\n",
    "    numbers.append(num)\n",
    "# Calculate the average\n",
    "average = sum(numbers)/len(numbers)\n",
    "# Result\n",
    "print(f\"The average of the inputed numbers is: {average}\")"
   ]
  }
 ],
 "metadata": {
  "kernelspec": {
   "display_name": "Python [conda env:base] *",
   "language": "python",
   "name": "conda-base-py"
  },
  "language_info": {
   "codemirror_mode": {
    "name": "ipython",
    "version": 3
   },
   "file_extension": ".py",
   "mimetype": "text/x-python",
   "name": "python",
   "nbconvert_exporter": "python",
   "pygments_lexer": "ipython3",
   "version": "3.13.5"
  }
 },
 "nbformat": 4,
 "nbformat_minor": 5
}
